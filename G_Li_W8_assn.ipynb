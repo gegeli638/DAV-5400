{
 "cells": [
  {
   "cell_type": "code",
   "execution_count": 116,
   "metadata": {},
   "outputs": [],
   "source": [
    "# load regular expressions module and pandas\n",
    "import re\n",
    "import pandas as pd"
   ]
  },
  {
   "cell_type": "code",
   "execution_count": 117,
   "metadata": {},
   "outputs": [
    {
     "data": {
      "text/plain": [
       "'555-1239Moe Szyslak(636) 555-0113Burns, C. Montgomery555 -6542Rev. Timothy Lovejoy555 8904Ned Flanders636-555-3226Simpson, Homer5553642Dr. Julius Hibbert'"
      ]
     },
     "execution_count": 117,
     "metadata": {},
     "output_type": "execute_result"
    }
   ],
   "source": [
    "#store the example into a text\n",
    "text = \"555-1239Moe Szyslak(636) 555-0113Burns, C. Montgomery555 -6542Rev. Timothy Lovejoy555 8904Ned Flanders636-555-3226Simpson, Homer5553642Dr. Julius Hibbert\"\n",
    "text"
   ]
  },
  {
   "cell_type": "markdown",
   "metadata": {},
   "source": [
    "#### 1.Extract the names of each individual from the unformatted text string and store them in a vector of some sort. \n",
    "\n",
    "In order to accomplish this task, we should find all the word in the text by using re.findall. Each name should start with the upper cases so we use [A-Z] in regex. And in each name, it cannot contains numbers or '(' mark so we use [^\\d|\\(] in regex. And we should find all the letters of each name in the text that at least appear once, so we use + in regex. Then print the result in a series like the vector. Then we can get the answer of this task. "
   ]
  },
  {
   "cell_type": "code",
   "execution_count": 118,
   "metadata": {},
   "outputs": [
    {
     "name": "stdout",
     "output_type": "stream",
     "text": [
      "0             Moe Szyslak\n",
      "1    Burns, C. Montgomery\n",
      "2    Rev. Timothy Lovejoy\n",
      "3            Ned Flanders\n",
      "4          Simpson, Homer\n",
      "5      Dr. Julius Hibbert\n",
      "dtype: object\n"
     ]
    }
   ],
   "source": [
    "#Extract the names of each individual from the unformatted text string\n",
    "result1 = re.findall('[A-Z][^\\d|\\(]+', text)\n",
    "# store them in a vector of some sort\n",
    "vector = pd.Series(result1)\n",
    "#print the answer\n",
    "print(vector)"
   ]
  },
  {
   "cell_type": "markdown",
   "metadata": {},
   "source": [
    "#### 2.Using your new vector containing only the names of the six individuals, complete the following tasks:\n",
    "\n",
    "##### a.Use your regex skills to rearrange the vector so that all elements conform to the standard “firstname lastname”, preserving any  titles (e.g., “Rev.”, “Dr.”, etc) or middle/second names.\n",
    "\n",
    "In order to accomplish this task, use a for loop to find all the name in vector. If we can find the name in vector contains ',' mark, then use re.split function to split it. Then we need to rearrange the name from 'lastname firstname' into 'firstname listname'(by change the index of each name and split it by space). Then we can get the answer."
   ]
  },
  {
   "cell_type": "code",
   "execution_count": 119,
   "metadata": {},
   "outputs": [
    {
     "name": "stdout",
     "output_type": "stream",
     "text": [
      "0             Moe Szyslak\n",
      "1     C. Montgomery Burns\n",
      "2    Rev. Timothy Lovejoy\n",
      "3            Ned Flanders\n",
      "4           Homer Simpson\n",
      "5      Dr. Julius Hibbert\n",
      "dtype: object\n"
     ]
    }
   ],
   "source": [
    "# use a for loop\n",
    "for i in range(len(vector)):\n",
    "#find the name contains ','mark\n",
    "    if re.findall(',',vector[i]):\n",
    "#spilt it\n",
    "        a = re.split(', ',vector[i])\n",
    "#rearrange the vector\n",
    "        vector[i] = a[1]+' '+a[0]\n",
    "#print the new vector and we can get the answer of this task\n",
    "print(vector)"
   ]
  },
  {
   "cell_type": "markdown",
   "metadata": {},
   "source": [
    "##### b.Construct a logical vector indicating whether a character has a title (i.e., Rev.and Dr.).\n",
    "In order to answer this question, we can use .str.contains function in regex to find all the name has a title. The title should be start with the upper cases from A-Z and contains a-z in not only one letter, and end up with a '.' mark. We use '[A-Z][a-z]+\\.' in regex to accomplish our task goal. Then we can get the answer in a series whether a character has a title is false or true."
   ]
  },
  {
   "cell_type": "code",
   "execution_count": 120,
   "metadata": {},
   "outputs": [
    {
     "data": {
      "text/plain": [
       "0    False\n",
       "1    False\n",
       "2     True\n",
       "3    False\n",
       "4    False\n",
       "5     True\n",
       "dtype: bool"
      ]
     },
     "execution_count": 120,
     "metadata": {},
     "output_type": "execute_result"
    }
   ],
   "source": [
    "vector.str.contains('[A-Z][a-z]+\\.')"
   ]
  },
  {
   "cell_type": "markdown",
   "metadata": {},
   "source": [
    "##### c.Construct a logical vector indicating whether a character has a middle/second name.\n",
    "As we all know, if a charater has a middle or second name, it should has three parts with two space or has a '.' mark in the middle. So we can use (\\w+\\s\\w+\\s) in regex to find the character has three parts, and use([A-Z]\\.\\s\\w+\\s) in regex to find the character has a '.' mark in the middle. Use match function to find all the correct charater and show false or true in a series. Then print it out and we can get the answer."
   ]
  },
  {
   "cell_type": "code",
   "execution_count": 121,
   "metadata": {},
   "outputs": [
    {
     "data": {
      "text/plain": [
       "0    False\n",
       "1     True\n",
       "2    False\n",
       "3    False\n",
       "4    False\n",
       "5    False\n",
       "dtype: bool"
      ]
     },
     "execution_count": 121,
     "metadata": {},
     "output_type": "execute_result"
    }
   ],
   "source": [
    "vector.str.match('(\\w+\\s\\w+\\s)|([A-Z]\\.\\s\\w+\\s)')"
   ]
  },
  {
   "cell_type": "markdown",
   "metadata": {},
   "source": [
    "#### 3. Consider the HTML string 'title'+++BREAKING NEWS+++'title'. We would like to extract the first HTML tag (i.e., “'title'\"). To do so we write the regular expression“<.+>”.  Explain why this fails and correct the expression.\n",
    "fail reason:\n",
    "\n",
    "regex \"<.+>\" means only match all the character that begin with '<' mark and end with '>' mark. But '>' can also be matched by '.+', so this regex only match the first '<' and the last '>' in the total HTML string.\n",
    "\n",
    "correct regex:\n",
    "\n",
    "'?' mark in regex means one or zero occurrences. So '<.+?>' can match the first '<' and the first '>'. Then we can extract the first HTML tag (i.e., “'title'\") and get the correct answer."
   ]
  },
  {
   "cell_type": "code",
   "execution_count": 122,
   "metadata": {},
   "outputs": [
    {
     "name": "stdout",
     "output_type": "stream",
     "text": [
      "<title>\n"
     ]
    }
   ],
   "source": [
    "#store the HTML string\n",
    "HTML = '<title>+++BREAKING NEWS+++<title>'\n",
    "#show the correct regex and use .group() to get the answer we want\n",
    "result3 = re.search('<.+?>',HTML).group()\n",
    "#print the answer to check it correct\n",
    "print(result3)"
   ]
  },
  {
   "cell_type": "markdown",
   "metadata": {},
   "source": [
    "#### 4.Consider the string “(5-3)^2=5^2-2*5*3+3^2” conforms to the binomial theorem. We would like to extract the formula in the string. To do so we write the regular expression “[^0-9=+*()]+”. Explain why this fails and correct the expression.\n",
    "\n",
    "fail reason:\n",
    "\n",
    "Because '^' mark and '-' mark has a meanning in [] in regex. So this regex cannot match the charater only means '^' and '-'. So we cannot get the correct answer through this regex.\n",
    "\n",
    "correct regex:\n",
    "\n",
    "In order to get the correct expression, we use a \"\\\\\" mark to escape special characters. This regex('\\\\^\\\\-') means '^' and '-' only has it's own charater meanning without other meanning in regex. In that way we can get the correct answer."
   ]
  },
  {
   "cell_type": "code",
   "execution_count": 123,
   "metadata": {},
   "outputs": [
    {
     "name": "stdout",
     "output_type": "stream",
     "text": [
      "(5-3)^2=5^2-2*5*3+3^2\n"
     ]
    }
   ],
   "source": [
    "#store the string\n",
    "string = '(5-3)^2=5^2-2*5*3+3^2'\n",
    "#show the correct regex and use.group() to get the answer we want\n",
    "result4 = re.search('[\\^\\-0-9=+*()]+', string).group()\n",
    "#print the answer and chect it\n",
    "print(result4)"
   ]
  },
  {
   "cell_type": "code",
   "execution_count": null,
   "metadata": {},
   "outputs": [],
   "source": []
  }
 ],
 "metadata": {
  "kernelspec": {
   "display_name": "Python 3",
   "language": "python",
   "name": "python3"
  },
  "language_info": {
   "codemirror_mode": {
    "name": "ipython",
    "version": 3
   },
   "file_extension": ".py",
   "mimetype": "text/x-python",
   "name": "python",
   "nbconvert_exporter": "python",
   "pygments_lexer": "ipython3",
   "version": "3.7.3"
  }
 },
 "nbformat": 4,
 "nbformat_minor": 2
}
