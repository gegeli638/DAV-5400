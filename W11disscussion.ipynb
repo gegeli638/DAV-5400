{
 "cells": [
  {
   "cell_type": "code",
   "execution_count": 5,
   "metadata": {},
   "outputs": [
    {
     "data": {
      "text/html": [
       "<div>\n",
       "<style scoped>\n",
       "    .dataframe tbody tr th:only-of-type {\n",
       "        vertical-align: middle;\n",
       "    }\n",
       "\n",
       "    .dataframe tbody tr th {\n",
       "        vertical-align: top;\n",
       "    }\n",
       "\n",
       "    .dataframe thead th {\n",
       "        text-align: right;\n",
       "    }\n",
       "</style>\n",
       "<table border=\"1\" class=\"dataframe\">\n",
       "  <thead>\n",
       "    <tr style=\"text-align: right;\">\n",
       "      <th></th>\n",
       "      <th>Identif</th>\n",
       "      <th>River</th>\n",
       "      <th>Location</th>\n",
       "      <th>Erected</th>\n",
       "      <th>Purpose</th>\n",
       "      <th>Length</th>\n",
       "      <th>Lanes</th>\n",
       "      <th>Clear-G</th>\n",
       "      <th>T-OR-D</th>\n",
       "      <th>Material</th>\n",
       "      <th>Span</th>\n",
       "      <th>REL-L</th>\n",
       "      <th>Type</th>\n",
       "    </tr>\n",
       "  </thead>\n",
       "  <tbody>\n",
       "    <tr>\n",
       "      <th>0</th>\n",
       "      <td>E1</td>\n",
       "      <td>M</td>\n",
       "      <td>3</td>\n",
       "      <td>1818</td>\n",
       "      <td>HIGHWAY</td>\n",
       "      <td>?</td>\n",
       "      <td>2</td>\n",
       "      <td>N</td>\n",
       "      <td>THROUGH</td>\n",
       "      <td>WOOD</td>\n",
       "      <td>SHORT</td>\n",
       "      <td>S</td>\n",
       "      <td>WOOD</td>\n",
       "    </tr>\n",
       "    <tr>\n",
       "      <th>1</th>\n",
       "      <td>E2</td>\n",
       "      <td>A</td>\n",
       "      <td>25</td>\n",
       "      <td>1819</td>\n",
       "      <td>HIGHWAY</td>\n",
       "      <td>1037</td>\n",
       "      <td>2</td>\n",
       "      <td>N</td>\n",
       "      <td>THROUGH</td>\n",
       "      <td>WOOD</td>\n",
       "      <td>SHORT</td>\n",
       "      <td>S</td>\n",
       "      <td>WOOD</td>\n",
       "    </tr>\n",
       "    <tr>\n",
       "      <th>2</th>\n",
       "      <td>E3</td>\n",
       "      <td>A</td>\n",
       "      <td>39</td>\n",
       "      <td>1829</td>\n",
       "      <td>AQUEDUCT</td>\n",
       "      <td>?</td>\n",
       "      <td>1</td>\n",
       "      <td>N</td>\n",
       "      <td>THROUGH</td>\n",
       "      <td>WOOD</td>\n",
       "      <td>?</td>\n",
       "      <td>S</td>\n",
       "      <td>WOOD</td>\n",
       "    </tr>\n",
       "    <tr>\n",
       "      <th>3</th>\n",
       "      <td>E5</td>\n",
       "      <td>A</td>\n",
       "      <td>29</td>\n",
       "      <td>1837</td>\n",
       "      <td>HIGHWAY</td>\n",
       "      <td>1000</td>\n",
       "      <td>2</td>\n",
       "      <td>N</td>\n",
       "      <td>THROUGH</td>\n",
       "      <td>WOOD</td>\n",
       "      <td>SHORT</td>\n",
       "      <td>S</td>\n",
       "      <td>WOOD</td>\n",
       "    </tr>\n",
       "    <tr>\n",
       "      <th>4</th>\n",
       "      <td>E6</td>\n",
       "      <td>M</td>\n",
       "      <td>23</td>\n",
       "      <td>1838</td>\n",
       "      <td>HIGHWAY</td>\n",
       "      <td>?</td>\n",
       "      <td>2</td>\n",
       "      <td>N</td>\n",
       "      <td>THROUGH</td>\n",
       "      <td>WOOD</td>\n",
       "      <td>?</td>\n",
       "      <td>S</td>\n",
       "      <td>WOOD</td>\n",
       "    </tr>\n",
       "  </tbody>\n",
       "</table>\n",
       "</div>"
      ],
      "text/plain": [
       "  Identif River Location  Erected   Purpose Length Lanes Clear-G   T-OR-D  \\\n",
       "0      E1     M        3     1818   HIGHWAY      ?     2       N  THROUGH   \n",
       "1      E2     A       25     1819   HIGHWAY   1037     2       N  THROUGH   \n",
       "2      E3     A       39     1829  AQUEDUCT      ?     1       N  THROUGH   \n",
       "3      E5     A       29     1837   HIGHWAY   1000     2       N  THROUGH   \n",
       "4      E6     M       23     1838   HIGHWAY      ?     2       N  THROUGH   \n",
       "\n",
       "  Material   Span REL-L  Type  \n",
       "0     WOOD  SHORT     S  WOOD  \n",
       "1     WOOD  SHORT     S  WOOD  \n",
       "2     WOOD      ?     S  WOOD  \n",
       "3     WOOD  SHORT     S  WOOD  \n",
       "4     WOOD      ?     S  WOOD  "
      ]
     },
     "execution_count": 5,
     "metadata": {},
     "output_type": "execute_result"
    }
   ],
   "source": [
    "#import pandas \n",
    "import pandas as pd\n",
    "#read csv file\n",
    "df = pd.read_csv(\"https://raw.githubusercontent.com/gegeli638/DAV-5400/master/bridges.data.version1\", header = None)\n",
    "df.columns = ['Identif', \n",
    "                'River',\n",
    "                'Location',\n",
    "                'Erected', \n",
    "                'Purpose',\n",
    "                'Length',\n",
    "                'Lanes',\n",
    "                'Clear-G',\n",
    "                'T-OR-D',\n",
    "                'Material',\n",
    "                'Span',\n",
    "                'REL-L',\n",
    "                'Type']\n",
    "#check the column name are correct\n",
    "df.head()"
   ]
  },
  {
   "cell_type": "markdown",
   "metadata": {},
   "source": [
    "#### Task 1\n",
    "Firstly, groupby the data by River,Purpose and Material. Then count the number of 'River' column. So we can get the answer."
   ]
  },
  {
   "cell_type": "code",
   "execution_count": 6,
   "metadata": {},
   "outputs": [
    {
     "data": {
      "text/plain": [
       "River  Purpose   Material\n",
       "A      AQUEDUCT  IRON         1\n",
       "                 WOOD         3\n",
       "       HIGHWAY   ?            1\n",
       "                 IRON         2\n",
       "                 STEEL       21\n",
       "                 WOOD         8\n",
       "       RR        IRON         1\n",
       "                 STEEL        9\n",
       "                 WOOD         2\n",
       "       WALK      STEEL        1\n",
       "M      HIGHWAY   IRON         4\n",
       "                 STEEL       19\n",
       "                 WOOD         3\n",
       "       RR        IRON         2\n",
       "                 STEEL       13\n",
       "O      HIGHWAY   ?            1\n",
       "                 IRON         1\n",
       "                 STEEL        9\n",
       "       RR        STEEL        4\n",
       "Y      HIGHWAY   STEEL        2\n",
       "       RR        STEEL        1\n",
       "Name: River, dtype: int64"
      ]
     },
     "execution_count": 6,
     "metadata": {},
     "output_type": "execute_result"
    }
   ],
   "source": [
    "#gruopby the data\n",
    "task1 = df.groupby(['River','Purpose', 'Material'])\n",
    "#count the River number\n",
    "task1['River'].count()"
   ]
  },
  {
   "cell_type": "markdown",
   "metadata": {},
   "source": [
    "#### Task 2\n",
    "Change the data type of the Length column. Then gruopby the data by 'Purpose' and 'Material'. Calculate the mean value of Length."
   ]
  },
  {
   "cell_type": "code",
   "execution_count": 12,
   "metadata": {
    "scrolled": true
   },
   "outputs": [
    {
     "data": {
      "text/plain": [
       "Purpose   Material\n",
       "AQUEDUCT  IRON        1000.000000\n",
       "          WOOD        1092.000000\n",
       "HIGHWAY   ?                   NaN\n",
       "          IRON        1216.666667\n",
       "          STEEL       1557.804348\n",
       "          WOOD        1053.375000\n",
       "RR        IRON        1100.000000\n",
       "          STEEL       1946.850000\n",
       "          WOOD                NaN\n",
       "WALK      STEEL               NaN\n",
       "Name: Length, dtype: float64"
      ]
     },
     "execution_count": 12,
     "metadata": {},
     "output_type": "execute_result"
    }
   ],
   "source": [
    "#change the Length column into numeric type\n",
    "df['Length'] = pd.to_numeric(df['Length'], errors='coerce')\n",
    "#gruop by the data and show the averange of Length\n",
    "task2= df.groupby(['Purpose', 'Material'])\n",
    "task2['Length'].mean()"
   ]
  },
  {
   "cell_type": "markdown",
   "metadata": {},
   "source": [
    "#### Task 3\n",
    "Firstly, cut the Erected of the data into four bins. Then group the data by this range. Calculate the mean, count, max and min value of the Length."
   ]
  },
  {
   "cell_type": "code",
   "execution_count": 13,
   "metadata": {
    "scrolled": true
   },
   "outputs": [
    {
     "data": {
      "text/html": [
       "<div>\n",
       "<style scoped>\n",
       "    .dataframe tbody tr th:only-of-type {\n",
       "        vertical-align: middle;\n",
       "    }\n",
       "\n",
       "    .dataframe tbody tr th {\n",
       "        vertical-align: top;\n",
       "    }\n",
       "\n",
       "    .dataframe thead th {\n",
       "        text-align: right;\n",
       "    }\n",
       "</style>\n",
       "<table border=\"1\" class=\"dataframe\">\n",
       "  <thead>\n",
       "    <tr style=\"text-align: right;\">\n",
       "      <th></th>\n",
       "      <th>mean</th>\n",
       "      <th>count</th>\n",
       "      <th>max</th>\n",
       "      <th>min</th>\n",
       "    </tr>\n",
       "    <tr>\n",
       "      <th>Erected</th>\n",
       "      <th></th>\n",
       "      <th></th>\n",
       "      <th></th>\n",
       "      <th></th>\n",
       "    </tr>\n",
       "  </thead>\n",
       "  <tbody>\n",
       "    <tr>\n",
       "      <th>(1810.0, 1860.0]</th>\n",
       "      <td>1094.625000</td>\n",
       "      <td>8</td>\n",
       "      <td>1500.0</td>\n",
       "      <td>990.0</td>\n",
       "    </tr>\n",
       "    <tr>\n",
       "      <th>(1860.0, 1902.0]</th>\n",
       "      <td>1603.347826</td>\n",
       "      <td>23</td>\n",
       "      <td>4558.0</td>\n",
       "      <td>1000.0</td>\n",
       "    </tr>\n",
       "    <tr>\n",
       "      <th>(1902.0, 1944.0]</th>\n",
       "      <td>1676.181818</td>\n",
       "      <td>33</td>\n",
       "      <td>3000.0</td>\n",
       "      <td>860.0</td>\n",
       "    </tr>\n",
       "    <tr>\n",
       "      <th>(1944.0, 1986.0]</th>\n",
       "      <td>1530.411765</td>\n",
       "      <td>17</td>\n",
       "      <td>3756.0</td>\n",
       "      <td>804.0</td>\n",
       "    </tr>\n",
       "  </tbody>\n",
       "</table>\n",
       "</div>"
      ],
      "text/plain": [
       "                         mean  count     max     min\n",
       "Erected                                             \n",
       "(1810.0, 1860.0]  1094.625000      8  1500.0   990.0\n",
       "(1860.0, 1902.0]  1603.347826     23  4558.0  1000.0\n",
       "(1902.0, 1944.0]  1676.181818     33  3000.0   860.0\n",
       "(1944.0, 1986.0]  1530.411765     17  3756.0   804.0"
      ]
     },
     "execution_count": 13,
     "metadata": {},
     "output_type": "execute_result"
    }
   ],
   "source": [
    "#cut the Erected of the data into four bins\n",
    "bins = [1810.0, 1860.0, 1902.0, 1944.0, 1986.0]\n",
    "range = pd.cut(df['Erected'], bins)\n",
    "#gruop by the data by this range and describe the statistic\n",
    "task3 = df.groupby(range)\n",
    "task3['Length'].agg(['mean','count','max','min'])"
   ]
  },
  {
   "cell_type": "code",
   "execution_count": null,
   "metadata": {},
   "outputs": [],
   "source": []
  }
 ],
 "metadata": {
  "kernelspec": {
   "display_name": "Python 3",
   "language": "python",
   "name": "python3"
  },
  "language_info": {
   "codemirror_mode": {
    "name": "ipython",
    "version": 3
   },
   "file_extension": ".py",
   "mimetype": "text/x-python",
   "name": "python",
   "nbconvert_exporter": "python",
   "pygments_lexer": "ipython3",
   "version": "3.7.3"
  }
 },
 "nbformat": 4,
 "nbformat_minor": 2
}
