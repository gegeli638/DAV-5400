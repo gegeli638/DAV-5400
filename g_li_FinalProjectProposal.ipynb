{
 "cells": [
  {
   "cell_type": "markdown",
   "metadata": {},
   "source": [
    "### GRUOP MEMBERS: Gege Li, Xiaojia He\n",
    "\n",
    "### Final project proposal"
   ]
  },
  {
   "cell_type": "markdown",
   "metadata": {},
   "source": [
    "## Introduction\n",
    "\n",
    "As the financial center of the world, the personal consumption and income in New York is higher than most cities. This data research aims to explore the range of personal income, the average personal consumption, the connection between different income and different jobs in NY, and we can also know the difference of income between male and female. For the consumption, we will explore the total living expenditure in New York and will also analyze what aspects of consumption are relatively high? At present, we only know house, transportation and daily meal are the big and necessary expenses. Finally, we will sum up the standard of living in New York and use Engel's Coefficient to see the change in recent years."
   ]
  },
  {
   "cell_type": "markdown",
   "metadata": {},
   "source": [
    "## Research Questions\n",
    "\n",
    "Here is the summary of our research questions:\n",
    "\n",
    "Income:\n",
    "* What is the average personal income per year in New York?\n",
    "* What are the wages in different jobs in New York?\n",
    "* What information can we get from the income gap between men and women?\n",
    "\n",
    "Consumption:\n",
    "* what is the average living expenditure each year in New York?\n",
    "* what is the proportion of average total expenditure amount on average total income amount?\n",
    "* what information can we get from the expenses in different locations in New York?\n",
    "* According to Engel's Law, what is the proportion of average food expenditure amount on average total expenditure amount?\n",
    "\n",
    "From the answers of these research questions, we can know people's income as well as consumption in NY, and know their standard of living and it's trend of change in the future. We can also know the difference of income between male and female, and know in which county the wage is higher and the expenditure is higher. Finally, according to Engel's Law, we can draw the conclusion how is the life in NY. Are they able to live happily, or just feed themselves.\n"
   ]
  },
  {
   "cell_type": "markdown",
   "metadata": {},
   "source": [
    "## Data to be Used\n",
    "\n",
    "We intend to get our data from these websites.\n",
    "\n",
    "Here is the website where we get the data source of income: https://datausa.io/profile/geo/new-york-ny#economy We will just choose some of the csv files which we need, and then read it through the python code.\n",
    "\n",
    "For consumption, here is the website: https://www.opendatanetwork.com/entity/0400000US36/New_York/economy.consumption.personal_consumption_expenditures?year=2014 In this website, instead of downloading the csv files directly, we plan to scrape the web page to get the data.\n",
    "\n",
    "At present,we will temporarily use these two data sets to operate our data, but we may also add some other dataset source to enrich our code if we need during the later operating processes."
   ]
  },
  {
   "cell_type": "markdown",
   "metadata": {},
   "source": [
    "## Approach\n",
    "\n",
    "At First, because we are more familiar with excel, we plan to sort some of the data into excel and then bring it into the Jupyter notebook through codes, and we will also do some transfermations in jupyter.\n",
    "\n",
    "For the average personal income and the average living expenditure in each year, we will utilize the statistical analysis of sum and average, and use line plot to show the change of income and expenditure in different year. In addition, we will also use Python's describe() function to further prove the maximum and min. In this way we can show our research question clearly.\n",
    "\n",
    "For the highest salary job question, at first we will use the groupby fuction to classify different jobs, and then utilize the statistical analysis of sum and average. Finally, we can use mix() to get the highest value. We could also use describe() function to check the maximum. For this question, we plan to use the bar chart to see the different wages in different jobs.\n",
    "\n",
    "For the question of different income between male and female, we will draw a bar chart to compare their salary according to different jobs. Through this way, we can explain why there is a gap of income in different gender.\n",
    "\n",
    "For the relationship of expenses and locations, we intend to use folium to draw a map to show the consumption of people in different areas in NY. This is a new knowledge that we didn't get access to in our class, so we need more time to learn the specific way to address it, and we promise we will explain it in the later work.\n",
    "\n",
    "For the question of Engel's Law and proportion, we will use sum, average and percentage to get the result. After that we plan to draw a line chart to show the trend of Engel's Coefficient, so that we can know the change of income and the change of stander of living in NY. Finally, we will draw some statistics EDA to summary all the information that we can get from this research questions.\n",
    "\n",
    "For the feature that we did not cover in class, We plan to explore the geography plot to show the relationship between geography and consumption levels in the form of maps.\n",
    "\n"
   ]
  },
  {
   "cell_type": "markdown",
   "metadata": {},
   "source": [
    "##### PS: this is just a preliminary assumption for our project. When we contiou to search our data and begin our code, we will find more questions to enrich our project. Also, we will try to find some time to meet professer to solve some problem about our thought."
   ]
  },
  {
   "cell_type": "code",
   "execution_count": null,
   "metadata": {},
   "outputs": [],
   "source": []
  }
 ],
 "metadata": {
  "kernelspec": {
   "display_name": "Python 3",
   "language": "python",
   "name": "python3"
  },
  "language_info": {
   "codemirror_mode": {
    "name": "ipython",
    "version": 3
   },
   "file_extension": ".py",
   "mimetype": "text/x-python",
   "name": "python",
   "nbconvert_exporter": "python",
   "pygments_lexer": "ipython3",
   "version": "3.7.3"
  }
 },
 "nbformat": 4,
 "nbformat_minor": 2
}
