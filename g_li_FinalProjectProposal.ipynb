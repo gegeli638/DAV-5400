{
 "cells": [
  {
   "cell_type": "markdown",
   "metadata": {},
   "source": [
    "### GRUOP MEMBERS: Gege Li, Xiaojia He\n",
    "\n",
    "### Final project proposal"
   ]
  },
  {
   "cell_type": "markdown",
   "metadata": {},
   "source": [
    "## Introduction\n",
    "\n",
    "As the financial center of the world, the personal consumption and income in New York is higher than most cities. This data research aims to explore the information about income and expenditure in New York, the connection between different income and different jobs in NY, and we can also know the difference of income between male and female. For the expenditure, we will analyze what aspects of consumption are relatively high? At present, we only know house, transportation and daily meal are the big and necessary expenses. Finally, we will sum up the standard of living in New York and use Engel's Coefficient to see the change in recent years."
   ]
  },
  {
   "cell_type": "markdown",
   "metadata": {},
   "source": [
    "## Research Questions\n",
    "\n",
    "Here is the summary of our research questions:\n",
    "\n",
    "Income:\n",
    "* What information can we get from the income gap between men and women?\n",
    "* What are the wages in different jobs in New York and what are the income difference in races? \n",
    "* what are the income in different location in New York?\n",
    "\n",
    "Expenditure:\n",
    "* What trend can we get from the expenditure in New York recent years?\n",
    "* Compare to the United State, what information can we get in different kind of expenditure in New York?\n",
    "\n",
    "From the answers of these research questions, we can know people's income as well as consumption in NY and it's trend of change in the future. We can also know the difference of income between male and female, the difference of income in different races, and know in which county the wage is higher. For personal expenditure, we choose the most three important expenses(housing, transportation, food) to analyze their percentage in total expenditure, and compare their expenses in New York and the United States and some other countries. Finally, summary all the information that we can get from our analysis. \n"
   ]
  },
  {
   "cell_type": "markdown",
   "metadata": {},
   "source": [
    "## Data to be Used\n",
    "\n",
    "We intend to get our data from these websites.\n",
    "\n",
    "Here is the website where we get the data source of income: https://datausa.io/profile/geo/new-york-ny#economy We will just choose some of the csv files which we need, and then read it through the python code.\n",
    "\n",
    "For consumption, here is the website: https://www.opendatanetwork.com/entity/0400000US36/New_York/economy.consumption.personal_consumption_expenditures?year=2014 In this website, instead of downloading the csv files directly, we plan to use API to get the data.\n",
    "https://www.bls.gov/regions/new-york-new-jersey/news-release/consumerexpenditures_newyorkarea.htm#chart1 For this website, we plan to scrape the web page to get the data.\n",
    "\n",
    "At present,we will temporarily use these three data sets to operate our data, but we may also add some other dataset source to enrich our code if we need during the later operating processes."
   ]
  },
  {
   "cell_type": "markdown",
   "metadata": {},
   "source": [
    "## Approach\n",
    "\n",
    "For the question of different income between male and female, we will draw a bar chart to compare their salary according to different years. In this way, we can explain why there is a gap in income in a different gender.\n",
    "\n",
    "For the question of different income in different races, we will draw a bar chart to compare their salary according to different jobs. \n",
    "\n",
    "We will do all this data analysis before we clean the data. We plan to do some transformations and grouping in cleaning the original data. Then we will begin to do our EDA and draw some conclusions.\n",
    "\n",
    "For the feature that we did not cover in class, We plan to explore the geography plot to show the difference between geography and income levels in the form of maps.\n",
    "\n",
    "For the expenditure research questions, we plan to use web API to get the data of personal consumption in recent years. Then we will draw a line chart to show the result directly. \n",
    "\n",
    "For the comparison between the United State and New York, we plan to scrap the web page to get the data. Then use a bar chart to show the difference in the most three important expenses: housing, transportation, and food. We can get the conclusion of New York expenditure at the United State level.\n"
   ]
  },
  {
   "cell_type": "markdown",
   "metadata": {},
   "source": [
    "##### PS: this is just a preliminary assumption for our project. When we continue to search for our data and begin to write our codes, we will find more questions to enrich our project. Also, we will grab some time to meet professor to help us clear our thoughts."
   ]
  },
  {
   "cell_type": "code",
   "execution_count": null,
   "metadata": {},
   "outputs": [],
   "source": []
  }
 ],
 "metadata": {
  "kernelspec": {
   "display_name": "Python 3",
   "language": "python",
   "name": "python3"
  },
  "language_info": {
   "codemirror_mode": {
    "name": "ipython",
    "version": 3
   },
   "file_extension": ".py",
   "mimetype": "text/x-python",
   "name": "python",
   "nbconvert_exporter": "python",
   "pygments_lexer": "ipython3",
   "version": "3.7.3"
  }
 },
 "nbformat": 4,
 "nbformat_minor": 2
}
