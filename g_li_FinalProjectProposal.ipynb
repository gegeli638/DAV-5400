{
 "cells": [
  {
   "cell_type": "markdown",
   "metadata": {},
   "source": [
    "### GRUOP MEMBERS: Gege Li, Xiaojia He\n",
    "\n",
    "### Final project proposal"
   ]
  },
  {
   "cell_type": "markdown",
   "metadata": {},
   "source": [
    "## Introduction\n",
    "\n",
    "This is a reasarch about the data of income and consumption in New York. NY is one of the most prosperous cities in the world, which is a dream place for people. So are you interested in the income and expenditure in NY? This is a data reasarch for us to explore the range of personal income in NY, the different income between different jobs and the job which has the highest avarage salary, and we can know the difference of income between male and female. For the consumption, we are interested in the total living expenditure in New York such as the house, transportation, daily meal expense. And get the final result for the life of living in New York."
   ]
  },
  {
   "cell_type": "markdown",
   "metadata": {},
   "source": [
    "## Research Questions\n",
    "\n",
    "Here is the summary of our reseatch questions:\n",
    "\n",
    "#### Income:\n",
    "* What is the average personal income per year in New York?\n",
    "* What kind of job has the highest average salary in New York?\n",
    "* What kind of information can we get from the difference of income between male and female?\n",
    "\n",
    "If we can answer this research question, we can find the summary of people's income in New York City and know their standard of living. We can show the different in male and female, in order to answer the further question why male and female gain different in job and try to arouse the concern of society for this issue. Also, we can get the highest job position in New York, and recommand graduateds to choose their job and start their career when they graduate.\n",
    "\n",
    "#### Consumption:\n",
    "* what is the average living expenditure each year in New York?\n",
    "* According to Engel's Law, what is the proportion of average food expenditure amount on average total expenditure amount?\n",
    "* what is the proportion of average total expenditure amount on average total income amount?\n",
    "* what is the relationship between expenses and location of different New York county?\n",
    "\n",
    "We can draw the conclusion from the Engel's Law that how is people's real life looks like. Are they live in a comfortable way or life just can be full. We can also draw the conclusion that whether people's income will cover their consumption and how much will their left or save. In that way we can also see people's standard of living by analysis both income and consumption."
   ]
  },
  {
   "cell_type": "markdown",
   "metadata": {},
   "source": [
    "## Data to be Used\n",
    "\n",
    "We intend to get our data from these websites.\n",
    "\n",
    "Here is the website where we get the data source of income: https://datausa.io/profile/geo/new-york-ny#economy We will pick up some of the csv files which we need to do the analysis, and then read it through the python code.\n",
    "\n",
    "For consumption, here is the website: https://www.opendatanetwork.com/entity/0400000US36/New_York/economy.consumption.personal_consumption_expenditures?year=2014 In this website, instead of downloading the csv files directly, we plan to scrape the web page to get the data.\n",
    "\n",
    "At present,we will temporarily use these two data sets to operate our data, but we may alos add some other dataset source to enrich our code if we need during the later operating processes.\n"
   ]
  },
  {
   "cell_type": "markdown",
   "metadata": {},
   "source": [
    "## Approach\n",
    "\n",
    "At First, we plan to write codes to sort the data in Juputer just like the transformations. In order to answer our research questions, we intend to use some statistical analysis and graphics to show the results. \n",
    "\n",
    "For the average personal income and the average living expenditure in each year, we intend to use line plot to show the change of income and expenditure in different year.And we will also use Python's describe() function to futher prove the answer of these questions. In this way we can help reader to understand our research questions.\n",
    "\n",
    "For the question about the highest salary job in NY,we intend to use Python's describe() function to find the highest one. This is the easy one but when we get the answer, we can analysis with 'real word' situation why this job can have the most salary and this analysis will be more meaningful.\n",
    "\n",
    "For the question about the different income between male and female, we will try to draw a bar chart using matplotlib to show the result in a more clearly way. By explaining the difference of male and female, we will ge\n",
    "\n",
    "For the question about the highest salary job in NY, we intend to use Python's describe() function to find the highest one. This is the easy one but when we get the answer, we can analysis with 'real word' situation why this job can have the most salary and this analysis will be more meaningful.\n",
    "\n",
    "For the question about the different income between male and female, we will try to draw a bar chart using matplotlib to show the result in a more clearly way. By explaining the difference of male and female, we will get more information about people's income in different gender.\n",
    "\n",
    "For the question--the relationship between expenses and location, we intend to use folium to draw a map about the NY location and the consumption of people in different areas.\n",
    "\n",
    "For the questions about Engel's Law and proportion, we intend to use a simple division to get the result. Also, we will draw a summary statistics EDA for each variables if we think is neccessary to our research questions.\n",
    "\n"
   ]
  },
  {
   "cell_type": "markdown",
   "metadata": {},
   "source": [
    "##### PS: this is just a preliminary assumption for our project. When we contiou to search our data and begin our code, we will find more questions to enrich our project. Also, we will try to find some time to meet professer to solve some problem about our thought."
   ]
  },
  {
   "cell_type": "code",
   "execution_count": null,
   "metadata": {},
   "outputs": [],
   "source": []
  }
 ],
 "metadata": {
  "kernelspec": {
   "display_name": "Python 3",
   "language": "python",
   "name": "python3"
  },
  "language_info": {
   "codemirror_mode": {
    "name": "ipython",
    "version": 3
   },
   "file_extension": ".py",
   "mimetype": "text/x-python",
   "name": "python",
   "nbconvert_exporter": "python",
   "pygments_lexer": "ipython3",
   "version": "3.7.3"
  }
 },
 "nbformat": 4,
 "nbformat_minor": 2
}
