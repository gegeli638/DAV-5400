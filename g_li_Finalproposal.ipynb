{
 "cells": [
  {
   "cell_type": "markdown",
   "metadata": {},
   "source": [
    "### GRUOP MEMBERS: Gege Li, Xiaojia He\n",
    "\n",
    "### Final project proposal"
   ]
  },
  {
   "cell_type": "markdown",
   "metadata": {},
   "source": [
    "## Introduction\n",
    "\n",
    "This is a reasarch about the data of income and consumption in New York. NY is one of the most prosperous cities in the world, which is a dream place for people. So are you interested in the income and expenditure in NY? This is a data reasarch for us to explore the range of personal income in NY, the different income between different jobs and the job which has the highest avarage salary, and we can know the difference of income between male and female. For the consumption, we are interested in the total living expenditure in New York such as the house, transportation, daily meal expense. And get the final result for the life of living in New York."
   ]
  },
  {
   "cell_type": "markdown",
   "metadata": {},
   "source": [
    "## Research Questions\n",
    "\n",
    "Here is the summary of our reseatch questions:\n",
    "\n",
    "#### Income:\n",
    "* What is the average personal income per year in New York?\n",
    "* What kind of job has the highest average salary in New York?\n",
    "* What kind of information can we get from the difference of income between male and female?\n",
    "\n",
    "#### Consumption:\n",
    "* What is the average living expenditure per year in New York?\n",
    "* How much do people usually spend in house, transportation and meal?\n",
    "* What is the relationship between expenses and location?"
   ]
  },
  {
   "cell_type": "markdown",
   "metadata": {},
   "source": [
    "## Data to be Used\n",
    "\n",
    "We intend to get our data from several websites. \n",
    "\n",
    "For people income, we try to find data from this website: https://datausa.io/profile/geo/new-york-ny#economy. We will download the csv files and read in python code in order to analysis them. \n",
    "\n",
    "For consumption, we try to find data from this website: https://www.opendatanetwork.com/entity/0400000US36/New_York/economy.consumption.personal_consumption_expenditures?year=2014. But in this website we cannot download the csv files directly so we intend to get the data by scraping the web page.\n",
    "\n",
    "And we will also find some other dataset source to enrich our code and analysis during we collecting the data.\n"
   ]
  },
  {
   "cell_type": "markdown",
   "metadata": {},
   "source": [
    "## Approach\n",
    "\n",
    "In order to answer our research questions, we intend to use some statistical analysis and graphics to show the results. For the average personal income and the average living expenditure, we intend to use Python's describe() function to show the answer. And for each answer we intend to use matplotlib to draw a EDA for a more clearly visualization. In this way we can help reader to understand our research questions.\n",
    "\n",
    "And for the last question--the relationship between expenses and location, we intend to use folium to draw a map about the NY location and the consumption of people in different areas.\n",
    "\n"
   ]
  },
  {
   "cell_type": "code",
   "execution_count": null,
   "metadata": {},
   "outputs": [],
   "source": []
  }
 ],
 "metadata": {
  "kernelspec": {
   "display_name": "Python 3",
   "language": "python",
   "name": "python3"
  },
  "language_info": {
   "codemirror_mode": {
    "name": "ipython",
    "version": 3
   },
   "file_extension": ".py",
   "mimetype": "text/x-python",
   "name": "python",
   "nbconvert_exporter": "python",
   "pygments_lexer": "ipython3",
   "version": "3.7.3"
  }
 },
 "nbformat": 4,
 "nbformat_minor": 2
}
