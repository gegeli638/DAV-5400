{
 "cells": [
  {
   "cell_type": "markdown",
   "metadata": {},
   "source": [
    "  Use import to open the csvfile. And then creat a new empaty list. Use for loop to append each row. Finally print every list. We can see the seven list seperately."
   ]
  },
  {
   "cell_type": "code",
   "execution_count": 1,
   "metadata": {},
   "outputs": [
    {
     "name": "stdout",
     "output_type": "stream",
     "text": [
      "['high', 'high', 'high', 'high', 'vhigh', 'low', 'med', 'low', 'vhigh', 'vhigh', 'low', 'vhigh', 'high', 'low', 'high', 'vhigh', 'med', 'high', 'low', 'low', 'med', 'low', 'vhigh', 'med', 'low', 'vhigh', 'med', 'high', 'low', 'med', 'high', 'high', 'low', 'vhigh', 'high']\n",
      "['high', 'high', 'high', 'low', 'low', 'high', 'med', 'low', 'low', 'high', 'low', 'low', 'low', 'vhigh', 'low', 'high', 'med', 'low', 'low', 'low', 'high', 'low', 'high', 'vhigh', 'vhigh', 'low', 'vhigh', 'high', 'high', 'high', 'low', 'vhigh', 'low', 'vhigh', 'low']\n",
      "['2', '4', '4', '2', '3', '2', '4', '3', '2', '4', '2', '4', '2', '3', '5more', '2', '2', '5more', '3', '2', '4', '2', '5more', '2', '4', '3', '3', '3', '5more', '5more', '3', '5more', '5more', '4', '3']\n",
      "['4', 'more', 'more', 'more', '2', '2', 'more', '2', '2', '4', '2', 'more', '4', 'more', '2', 'more', '2', '4', 'more', '2', '2', '2', '4', '2', '4', 'more', '4', '4', '2', '2', '4', '4', '2', '2', '2']\n",
      "['med', 'small', 'big', 'big', 'med', 'small', 'med', 'big', 'small', 'med', 'med', 'small', 'big', 'big', 'big', 'med', 'small', 'med', 'med', 'big', 'big', 'small', 'med', 'big', 'big', 'big', 'small', 'med', 'big', 'med', 'med', 'med', 'med', 'big', 'big']\n",
      "['low', 'high', 'low', 'high', 'med', 'low', 'high', 'med', 'low', 'low', 'med', 'high', 'med', 'low', 'med', 'high', 'low', 'high', 'high', 'med', 'high', 'high', 'med', 'low', 'low', 'low', 'low', 'med', 'low', 'med', 'high', 'med', 'low', 'high', 'high']\n",
      "['unacc', 'acc', 'unacc', 'acc', 'unacc', 'unacc', 'vgood', 'unacc', 'unacc', 'unacc', 'unacc', 'acc', 'acc', 'unacc', 'unacc', 'unacc', 'unacc', 'acc', 'vgood', 'unacc', 'unacc', 'unacc', 'unacc', 'unacc', 'unacc', 'unacc', 'unacc', 'unacc', 'unacc', 'unacc', 'acc', 'unacc', 'unacc', 'unacc', 'unacc']\n"
     ]
    }
   ],
   "source": [
    "import csv\n",
    "\n",
    "with open('D:\\programming\\cars-sample35.txt') as csvfile:\n",
    " readCSV = csv.reader(csvfile)\n",
    " Price_list = [] \n",
    " Maint_list = [] \n",
    " Door_list = [] \n",
    " Passenger_list = [] \n",
    " Luggage_list = [] \n",
    " Safety_list = [] \n",
    " Classification_list = []\n",
    " for x in readCSV:\n",
    "       Price_list.append(x[0])\n",
    "       Maint_list.append(x[1])\n",
    "       Door_list.append(x[2])\n",
    "       Passenger_list.append(x[3])\n",
    "       Luggage_list.append(x[4])\n",
    "       Safety_list.append(x[5])\n",
    "       Classification_list.append(x[6])        \n",
    "print(Price_list)\n",
    "print(Maint_list)\n",
    "print(Door_list)\n",
    "print(Passenger_list)\n",
    "print(Luggage_list)\n",
    "print(Safety_list)\n",
    "print(Classification_list)"
   ]
  },
  {
   "cell_type": "markdown",
   "metadata": {},
   "source": [
    "First task is to find the list index values of each automobile having a price rating of \"med\", using a list comprehension.\n",
    "Creat a new list named med_list. X means each items in the price_list. Use a for loop to find all the 'med' one in price list. Use range and len to find the index of 'med' in price list. Then print med_list."
   ]
  },
  {
   "cell_type": "code",
   "execution_count": 4,
   "metadata": {},
   "outputs": [
    {
     "name": "stdout",
     "output_type": "stream",
     "text": [
      "[6, 16, 20, 23, 26, 29]\n"
     ]
    }
   ],
   "source": [
    "#first task\n",
    "med_list=[x for x in range(len(Price_list)) if Price_list[x]=='med']\n",
    "print(med_list)"
   ]
  },
  {
   "cell_type": "markdown",
   "metadata": {},
   "source": [
    "Second task is to find the \"number of passengers\" value for each auto having a \"price\" value of \"med\" using a list comprehension instead of a basic for or while loop. Firstly, create a new list named finding_list. Then use for loop to find the index value of passenger_list in med_list. Also, the for loop is a list comprehension. Print finding_list and we can see the items of price_list='med' in passenger_list."
   ]
  },
  {
   "cell_type": "code",
   "execution_count": 6,
   "metadata": {},
   "outputs": [
    {
     "name": "stdout",
     "output_type": "stream",
     "text": [
      "['more', '2', '2', '2', '4', '2']\n"
     ]
    }
   ],
   "source": [
    "#second task\n",
    "finding_list=[Passenger_list[x] for x in med_list]\n",
    "print(finding_list)"
   ]
  },
  {
   "cell_type": "markdown",
   "metadata": {},
   "source": [
    "Third task is to find the index value for each automobile having a price value of \"high\" and a maintenance value that is not \"low\" using a list comprehension. Creat a new list named New_list. X means each items in the price_list. Use a for loop to find all the items in price_list='med' and maint_list not equal 'low'. Use range and len to find the index in price and maint list. Then print New_list. We can see the output which is the index value."
   ]
  },
  {
   "cell_type": "code",
   "execution_count": 8,
   "metadata": {},
   "outputs": [
    {
     "name": "stdout",
     "output_type": "stream",
     "text": [
      "[0, 1, 2, 27, 31]\n"
     ]
    }
   ],
   "source": [
    "#third task\n",
    "New_list = [x for x in range(len(Price_list)) if Price_list[x] == 'high' and Maint_list[x] != 'low' ]\n",
    "print(New_list)"
   ]
  },
  {
   "cell_type": "markdown",
   "metadata": {},
   "source": [
    "Fourth task, implement the same logic using a list comprehension. Apply list comprehension to the nlist list of lists shown above. Because there are two for loop in this list. So we need to find out what is the final output item and how it work in the list. Use x for loop first and then use y for loop in x. Finally we need to put y in the flist. Print flish and this is the two for loop list comprehension looks like."
   ]
  },
  {
   "cell_type": "code",
   "execution_count": 16,
   "metadata": {},
   "outputs": [
    {
     "name": "stdout",
     "output_type": "stream",
     "text": [
      "[1, 2, 3, 'A', 'B', 'C', 4, 5, 'D', 'E']\n"
     ]
    }
   ],
   "source": [
    "#fourth task\n",
    "nlist = [ [1, 2, 3], ['A', 'B', 'C'], [4, 5], ['D', 'E'] ] \n",
    "flist=[y for x in nlist for y in x]\n",
    "print(flist)"
   ]
  },
  {
   "cell_type": "markdown",
   "metadata": {},
   "source": [
    "Fifth task is to create a user defined function that accepts as input one of the seven automobile attribute lists as well as an integer value and returns a Python dict object. Firstly, define a new function named makedict and have two value: mylist and x. Then create the process of this function. It is a dictionary. Use for loop to find the index in mylist. If the index less than x, print the dict keys as 'A'+str(cause A is a str not a int), and print the values as index of mylist. Finally return the new function. Now we can use makedict as a normal function."
   ]
  },
  {
   "cell_type": "code",
   "execution_count": 4,
   "metadata": {},
   "outputs": [
    {
     "name": "stdout",
     "output_type": "stream",
     "text": [
      "{'A0': 'med', 'A1': 'small', 'A2': 'big', 'A3': 'big', 'A4': 'med'}\n"
     ]
    }
   ],
   "source": [
    "#fifth task\n",
    "def makedict(mylist, x):\n",
    "    newdict={}\n",
    "    for a in range(len(mylist)):\n",
    "        if a<x:\n",
    "            newdict['A'+ str(a)]= mylist[a]\n",
    "    return newdict\n",
    "print(makedict(Luggage_list, 5))"
   ]
  },
  {
   "cell_type": "markdown",
   "metadata": {},
   "source": [
    "Use this new function is very easy. Just put the list and number you want, then print the newdict. For a dictinary, if you want the fourth key value, just print the newdict with 'A4',and print it out. The result is almost here."
   ]
  },
  {
   "cell_type": "code",
   "execution_count": 60,
   "metadata": {},
   "outputs": [
    {
     "name": "stdout",
     "output_type": "stream",
     "text": [
      "{'A0': 'high', 'A1': 'high', 'A2': 'high', 'A3': 'high', 'A4': 'vhigh', 'A5': 'low', 'A6': 'med'} {'A0': 'med', 'A1': 'small', 'A2': 'big', 'A3': 'big', 'A4': 'med', 'A5': 'small', 'A6': 'med'}\n",
      "vhigh\n",
      "med\n"
     ]
    }
   ],
   "source": [
    "#use new function\n",
    "newdict1=makedict(Price_list, 7)\n",
    "newdict2=makedict(Luggage_list,7)\n",
    "\n",
    "print(newdict1, newdict2)\n",
    "\n",
    "print(newdict1['A4'])\n",
    "print(newdict2['A4'])"
   ]
  },
  {
   "cell_type": "code",
   "execution_count": null,
   "metadata": {},
   "outputs": [],
   "source": []
  }
 ],
 "metadata": {
  "kernelspec": {
   "display_name": "Python 3",
   "language": "python",
   "name": "python3"
  },
  "language_info": {
   "codemirror_mode": {
    "name": "ipython",
    "version": 3
   },
   "file_extension": ".py",
   "mimetype": "text/x-python",
   "name": "python",
   "nbconvert_exporter": "python",
   "pygments_lexer": "ipython3",
   "version": "3.7.3"
  }
 },
 "nbformat": 4,
 "nbformat_minor": 2
}
